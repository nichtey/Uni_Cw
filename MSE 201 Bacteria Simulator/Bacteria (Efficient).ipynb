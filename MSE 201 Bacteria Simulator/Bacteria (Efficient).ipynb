{
 "cells": [
  {
   "cell_type": "code",
   "execution_count": null,
   "metadata": {},
   "outputs": [
    {
     "name": "stdout",
     "output_type": "stream",
     "text": [
      "\n",
      "Combination 1 (For N = 1.0, d = 0.13):\n"
     ]
    },
    {
     "data": {
      "text/plain": [
       "<Figure size 1000x1000 with 1 Axes>"
      ]
     },
     "metadata": {},
     "output_type": "display_data"
    },
    {
     "data": {
      "application/vnd.jupyter.widget-view+json": {
       "model_id": "025c058289a145d3ac81c40b2f36e0d7",
       "version_major": 2,
       "version_minor": 0
      },
      "text/plain": [
       "IntProgress(value=0, description='Sim 0:', max=2000)"
      ]
     },
     "metadata": {},
     "output_type": "display_data"
    },
    {
     "data": {
      "text/plain": [
       "<Figure size 1000x1000 with 1 Axes>"
      ]
     },
     "metadata": {},
     "output_type": "display_data"
    },
    {
     "data": {
      "text/plain": [
       "<Figure size 1000x1000 with 1 Axes>"
      ]
     },
     "metadata": {},
     "output_type": "display_data"
    },
    {
     "data": {
      "text/plain": [
       "<Figure size 1000x1000 with 1 Axes>"
      ]
     },
     "metadata": {},
     "output_type": "display_data"
    },
    {
     "data": {
      "text/plain": [
       "<Figure size 1000x1000 with 1 Axes>"
      ]
     },
     "metadata": {},
     "output_type": "display_data"
    },
    {
     "data": {
      "text/plain": [
       "<Figure size 1000x1000 with 1 Axes>"
      ]
     },
     "metadata": {},
     "output_type": "display_data"
    },
    {
     "data": {
      "text/plain": [
       "<Figure size 1000x1000 with 1 Axes>"
      ]
     },
     "metadata": {},
     "output_type": "display_data"
    },
    {
     "data": {
      "application/vnd.jupyter.widget-view+json": {
       "model_id": "cc6bdf054eeb41f1a825cefe0d0b8359",
       "version_major": 2,
       "version_minor": 0
      },
      "text/plain": [
       "IntProgress(value=0, description='Sim 1:', max=2000)"
      ]
     },
     "metadata": {},
     "output_type": "display_data"
    },
    {
     "data": {
      "text/plain": [
       "<Figure size 1000x1000 with 1 Axes>"
      ]
     },
     "metadata": {},
     "output_type": "display_data"
    },
    {
     "data": {
      "text/plain": [
       "<Figure size 1000x1000 with 1 Axes>"
      ]
     },
     "metadata": {},
     "output_type": "display_data"
    },
    {
     "data": {
      "text/plain": [
       "<Figure size 1000x1000 with 1 Axes>"
      ]
     },
     "metadata": {},
     "output_type": "display_data"
    },
    {
     "data": {
      "text/plain": [
       "<Figure size 1000x1000 with 1 Axes>"
      ]
     },
     "metadata": {},
     "output_type": "display_data"
    },
    {
     "name": "stdout",
     "output_type": "stream",
     "text": [
      "       0      1      2     3\n",
      "0  Sim 0  Sim 1  Stdev  Mean\n",
      "1     81     69      6    75\n",
      "\n",
      "Combination 2 (For N = 1.0, d = 0.455):\n"
     ]
    },
    {
     "data": {
      "text/plain": [
       "<Figure size 1000x1000 with 1 Axes>"
      ]
     },
     "metadata": {},
     "output_type": "display_data"
    },
    {
     "data": {
      "application/vnd.jupyter.widget-view+json": {
       "model_id": "c5ba347d22c749e2ba86ea62e6c57f7d",
       "version_major": 2,
       "version_minor": 0
      },
      "text/plain": [
       "IntProgress(value=0, description='Sim 0:', max=2000)"
      ]
     },
     "metadata": {},
     "output_type": "display_data"
    },
    {
     "data": {
      "text/plain": [
       "<Figure size 1000x1000 with 1 Axes>"
      ]
     },
     "metadata": {},
     "output_type": "display_data"
    },
    {
     "data": {
      "text/plain": [
       "<Figure size 1000x1000 with 1 Axes>"
      ]
     },
     "metadata": {},
     "output_type": "display_data"
    },
    {
     "data": {
      "text/plain": [
       "<Figure size 1000x1000 with 1 Axes>"
      ]
     },
     "metadata": {},
     "output_type": "display_data"
    },
    {
     "data": {
      "text/plain": [
       "<Figure size 1000x1000 with 1 Axes>"
      ]
     },
     "metadata": {},
     "output_type": "display_data"
    },
    {
     "data": {
      "text/plain": [
       "<Figure size 1000x1000 with 1 Axes>"
      ]
     },
     "metadata": {},
     "output_type": "display_data"
    },
    {
     "data": {
      "text/plain": [
       "<Figure size 1000x1000 with 1 Axes>"
      ]
     },
     "metadata": {},
     "output_type": "display_data"
    },
    {
     "data": {
      "application/vnd.jupyter.widget-view+json": {
       "model_id": "2bf2fec12b50448781cc8265cabffaf9",
       "version_major": 2,
       "version_minor": 0
      },
      "text/plain": [
       "IntProgress(value=0, description='Sim 1:', max=2000)"
      ]
     },
     "metadata": {},
     "output_type": "display_data"
    },
    {
     "data": {
      "text/plain": [
       "<Figure size 1000x1000 with 1 Axes>"
      ]
     },
     "metadata": {},
     "output_type": "display_data"
    },
    {
     "data": {
      "text/plain": [
       "<Figure size 1000x1000 with 1 Axes>"
      ]
     },
     "metadata": {},
     "output_type": "display_data"
    },
    {
     "data": {
      "text/plain": [
       "<Figure size 1000x1000 with 1 Axes>"
      ]
     },
     "metadata": {},
     "output_type": "display_data"
    },
    {
     "data": {
      "text/plain": [
       "<Figure size 1000x1000 with 1 Axes>"
      ]
     },
     "metadata": {},
     "output_type": "display_data"
    },
    {
     "name": "stdout",
     "output_type": "stream",
     "text": [
      "       0      1      2     3\n",
      "0  Sim 0  Sim 1  Stdev  Mean\n",
      "1     80     71    4.5  75.5\n",
      "\n",
      "Combination 3 (For N = 1.0, d = 0.78):\n"
     ]
    },
    {
     "data": {
      "text/plain": [
       "<Figure size 1000x1000 with 1 Axes>"
      ]
     },
     "metadata": {},
     "output_type": "display_data"
    },
    {
     "data": {
      "application/vnd.jupyter.widget-view+json": {
       "model_id": "afaf370bc6374b878fcd1542013bab95",
       "version_major": 2,
       "version_minor": 0
      },
      "text/plain": [
       "IntProgress(value=0, description='Sim 0:', max=2000)"
      ]
     },
     "metadata": {},
     "output_type": "display_data"
    },
    {
     "data": {
      "text/plain": [
       "<Figure size 1000x1000 with 1 Axes>"
      ]
     },
     "metadata": {},
     "output_type": "display_data"
    },
    {
     "data": {
      "text/plain": [
       "<Figure size 1000x1000 with 1 Axes>"
      ]
     },
     "metadata": {},
     "output_type": "display_data"
    },
    {
     "data": {
      "text/plain": [
       "<Figure size 1000x1000 with 1 Axes>"
      ]
     },
     "metadata": {},
     "output_type": "display_data"
    },
    {
     "data": {
      "text/plain": [
       "<Figure size 1000x1000 with 1 Axes>"
      ]
     },
     "metadata": {},
     "output_type": "display_data"
    },
    {
     "data": {
      "text/plain": [
       "<Figure size 1000x1000 with 1 Axes>"
      ]
     },
     "metadata": {},
     "output_type": "display_data"
    },
    {
     "data": {
      "text/plain": [
       "<Figure size 1000x1000 with 1 Axes>"
      ]
     },
     "metadata": {},
     "output_type": "display_data"
    },
    {
     "data": {
      "application/vnd.jupyter.widget-view+json": {
       "model_id": "77c861fda3d34ec087c7cdecce4b6a39",
       "version_major": 2,
       "version_minor": 0
      },
      "text/plain": [
       "IntProgress(value=0, description='Sim 1:', max=2000)"
      ]
     },
     "metadata": {},
     "output_type": "display_data"
    },
    {
     "data": {
      "text/plain": [
       "<Figure size 1000x1000 with 1 Axes>"
      ]
     },
     "metadata": {},
     "output_type": "display_data"
    },
    {
     "data": {
      "text/plain": [
       "<Figure size 1000x1000 with 1 Axes>"
      ]
     },
     "metadata": {},
     "output_type": "display_data"
    },
    {
     "data": {
      "text/plain": [
       "<Figure size 1000x1000 with 1 Axes>"
      ]
     },
     "metadata": {},
     "output_type": "display_data"
    },
    {
     "data": {
      "text/plain": [
       "<Figure size 1000x1000 with 1 Axes>"
      ]
     },
     "metadata": {},
     "output_type": "display_data"
    },
    {
     "data": {
      "text/plain": [
       "<Figure size 1000x1000 with 1 Axes>"
      ]
     },
     "metadata": {},
     "output_type": "display_data"
    },
    {
     "name": "stdout",
     "output_type": "stream",
     "text": [
      "       0      1      2     3\n",
      "0  Sim 0  Sim 1  Stdev  Mean\n",
      "1     80     95    7.5  87.5\n",
      "\n",
      "Combination 4 (For N = 1.0, d = 1.106):\n"
     ]
    },
    {
     "data": {
      "text/plain": [
       "<Figure size 1000x1000 with 1 Axes>"
      ]
     },
     "metadata": {},
     "output_type": "display_data"
    },
    {
     "data": {
      "application/vnd.jupyter.widget-view+json": {
       "model_id": "87a2d6b7f1d64cdbb8edb6b25581ec5c",
       "version_major": 2,
       "version_minor": 0
      },
      "text/plain": [
       "IntProgress(value=0, description='Sim 0:', max=2000)"
      ]
     },
     "metadata": {},
     "output_type": "display_data"
    }
   ],
   "source": [
    "import numpy as np\n",
    "import matplotlib.pyplot as plt\n",
    "import itertools as itr\n",
    "from scipy.spatial import Voronoi, ConvexHull\n",
    "from ipywidgets import IntProgress\n",
    "from IPython.display import display\n",
    "import pandas as pd\n",
    "import os \n",
    "import datetime\n",
    "\n",
    "'''USER INPUT: Starting parameters'''\n",
    "square = 10                      # Size of the surface to be generated (Will always be a n*n square)\n",
    "no_col = 5                       # Initial number of colonies to be generated\n",
    "col_r = 2                        # Colonies generated initially will have a radius of col_r\n",
    "no_bac = 100                     # Initial number of bacteria in each colony\n",
    "coat_N_range = (1, 15)           # Range of numbers of antibacterial coating to run simulation on. Thickness of coating determined by N.\n",
    "n_food = 2000                    # Initial amount of food\n",
    "\n",
    "'''USER INPUT: Evolution parameters'''\n",
    "k_die_0 = 35                                   # For syn colonies, default = 27.5 else will never converge.\n",
    "k_replicate = 5\n",
    "k_move = 50\n",
    "move_mean = 0.75                                 # Mean distance moved by a bacterium\n",
    "move_sd = 0.2                                    # Standard deviation of distance moved\n",
    "r_eat = 1                                        # Maximum distance to a piece of food in order to eat it\n",
    "syn_col = True                                   # True: synergistic colonies; False: competitive colonies\n",
    "\n",
    "'''USER INPUT: Display and system parameters'''\n",
    "show_food = True\n",
    "plot_show = True\n",
    "plot_condense = True                             # False: Display plot for every step. True: Display first, last plots and plots at intervals of 200.\n",
    "                                                 # Note: plot_condense must be true or save_info will not be activated, to prevent overuse of RAM.\n",
    "max_step = 2000                                  # Specify maximum number of steps. (Determines wall time)\n",
    "max_repeats = 10                                 # Specify number of times to try to get stdev < 0.2* mean t1/2\n",
    "max_bac = 5000\n",
    "save_info = True                                # Save bacteria and food positions at each snapshot if true\n",
    "col_symbols = ['H', 'He', 'Li', 'Be', 'B', 'C', 'N', 'O'] # Symbols used to differentiat bacteria in csv file. Last symbol used for food\n",
    "\n",
    "'''Creation of global variables'''\n",
    "bacteria_list = [[] for i in range(no_col)]      # List of lists (colonies) of Bacteria objects\n",
    "plots = []                                       # List of fig, ax plots\n",
    "step_no = 0                                      # Number of steps that have taken place\n",
    "bac_count = []\n",
    "terminate = False\n",
    "coat_N = 3                                       # Number of anti-bacterial coating\n",
    "coat_d = 2                                       # Anti-bacterial coating thickness\n",
    "t_half = []\n",
    "comb_no = 0                                      # Testing this N,d combination currently\n",
    "\n",
    "'''Definition of classes and functions'''\n",
    "class Bacteria():                                # Class to contain information for each bacterium\n",
    "    def __init__(self, pos, zone):\n",
    "        self.pos = pos\n",
    "        self.zone = zone                         # Coating zone the bacterium is on. None if not on coating\n",
    "        self.age = 1\n",
    "        self.meal = 11                           # Number of steps since last meal\n",
    "        self.neighbours = -1\n",
    "        return\n",
    "        \n",
    "    def decision(self):                          # Choose an action for the bacterium\n",
    "        k_die = k_die_0\n",
    "        if self.meal <= 10:                      # If the bacterium ate in the last 10 steps, \n",
    "            k_die = 0                            # it cannot die\n",
    "        elif self.neighbours > 0:\n",
    "            k_die = k_die_0/self.neighbours\n",
    "            \n",
    "        ks = (k_die, k_replicate, k_move)\n",
    "        bact_actions = [\"Die\", \"Replicate\", \"Move\"] \n",
    "        action_weights = [k/sum(ks) for k in ks]\n",
    "        bact_choice = np.random.choice(bact_actions, p = action_weights)\n",
    "        return bact_choice\n",
    "    \n",
    "    def replicate(self, col):                                                         # Create a new bacterium at the\n",
    "        if self.pos[0] <= 5:\n",
    "            shift_x = 0.01\n",
    "        else: shift_x = -0.01\n",
    "        \n",
    "        #if self.pos[1] < 5:\n",
    "        #    shift_y = 0.005\n",
    "        #else: shift_y = -0.005\n",
    "        bacteria_list[col].append(Bacteria([self.pos[0]+shift_x, self.pos[1]], self.zone))                      # same colony, position and zone\n",
    "        return\n",
    "\n",
    "    def move(self):  \n",
    "        plus_minus = np.random.randint(2, size = 2)\n",
    "        if plus_minus[0] == 1:\n",
    "            x_new = self.pos[0] + np.random.normal(loc = move_mean, scale = move_sd)\n",
    "        else: \n",
    "            x_new = self.pos[0] - np.random.normal(loc = move_mean, scale = move_sd)\n",
    "        \n",
    "        if plus_minus[1] == 1:\n",
    "            y_new = self.pos[1] + np.random.normal(loc = move_mean, scale = move_sd)\n",
    "        else:\n",
    "            y_new = self.pos[1] - np.random.normal(loc = move_mean, scale = move_sd)\n",
    "        \n",
    "        if (x_new > square or y_new > square or x_new < 0 or y_new < 0):              # If new coords are out of bounds,\n",
    "            return                                                                    # movement is rejected.\n",
    "      \n",
    "        if self.zone != None:                                                         # If the bacterium is on the coating,\n",
    "            if (y_new < coat_zones[self.zone][0] or y_new > coat_zones[self.zone][1]):# and the movement brings it out, \n",
    "                return                                                                # movement is rejected.\n",
    "            \n",
    "        self.pos = [x_new, y_new]                                                 # Update the bacterium's position\n",
    "        for i, zone in enumerate(coat_zones):                                     # Update the bacterium's zone\n",
    "            if zone[0] < y_new < zone[1]:\n",
    "                self.zone = i\n",
    "                break \n",
    "        return\n",
    "\n",
    "class SmallHull():                                  # Imitates hull object for colonies of size 1 or 2\n",
    "    def __init__(self, points):\n",
    "        self.points = np.asarray(points)\n",
    "        if len(points) > 1:\n",
    "            self.simplices = [(0,1)]\n",
    "            self.vertices = np.array([0,1])\n",
    "        else:\n",
    "            self.simplices = []\n",
    "            self.vertices = np.array([0])\n",
    "    \n",
    "def snapshot():                                    # Visualise the current state of the system\n",
    "    global terminate\n",
    "    total_bac = 0\n",
    "    for col in bacteria_list:                      # Count the total number of bacteria still alive at this step\n",
    "        total_bac += len(col)\n",
    "    \n",
    "    if total_bac < (no_col*no_bac)/2:\n",
    "        terminate = True  \n",
    "    \n",
    "    if plot_condense and not terminate and step_no != 0 and (step_no +1) % 20 != 0:\n",
    "        return total_bac\n",
    "    \n",
    "    if save_info:\n",
    "        save_file(total_bac)\n",
    "    \n",
    "    if plot_show:\n",
    "    \n",
    "        gen_hulls()\n",
    "\n",
    "        fig, ax = plt.subplots(figsize = (10,10))                                           # Set the axes parameters\n",
    "        if terminate:\n",
    "            ax.set_title('Step {0} (Final Step)'.format(step_no))\n",
    "        else:\n",
    "            ax.set_title('Step {0}'.format(step_no))\n",
    "        ax.set_xlim(0, square)\n",
    "        ax.set_ylim(0, square)\n",
    "        ax.set_aspect('equal')\n",
    "\n",
    "        for zone in coat_zones:                                                             # Plot the coating\n",
    "            ax.fill_between((0,square), [zone[0]]*2, [zone[1]]*2, facecolor = (0,1,0,0.2))\n",
    "\n",
    "        if show_food:                                                                       # Plot the food\n",
    "            ax.scatter(food_array[:,0], food_array[:,1], marker = 'x')\n",
    "\n",
    "        for col in bacteria_list:                                                           # Plot the bacteria\n",
    "            pos_list = np.array([bac.pos for bac in col])\n",
    "            ax.scatter(pos_list[:,0], pos_list[:,1])\n",
    "\n",
    "        for hull in hulls:                                                                  # Plot the colony bounds\n",
    "            if hull == 0:\n",
    "                continue\n",
    "            p = hull.points\n",
    "            for line in hull.simplices:\n",
    "                ax.plot([p[line[0],0], p[line[1],0]], [p[line[0],1], p[line[1],1]], c='r')\n",
    "\n",
    "        plots.append((fig, ax))                                                             # Add the figure and axes\n",
    "                                                                                            # to the plot list            \n",
    "        plt.savefig(r\"Data{5}/comb_{4}/N={2}_d={3}_Sim={0}_StepNo={1}.png\".format(len(t_half[comb_no]), step_no, test_combs[comb_no, 0],  test_combs[comb_no, 1], comb_no, timestamp))\n",
    "        plt.show()\n",
    "    return total_bac                                                                              \n",
    "    \n",
    "def gen_coat():                                 # Generates the anti-bacterial coating\n",
    "    global coat_zones\n",
    "    \n",
    "    N, d = coat_N, coat_d\n",
    "    if N*d >= square:\n",
    "        raise ValueError('N x d < square side')\n",
    "    \n",
    "    d2 = (square - N*d)/(N+1)                           # Calculate the width of non-coated regions\n",
    "    lowers = np.arange(d+d2, square, d+d2)              # Calculate the list of lower edges of coated zones\n",
    "    uppers = lowers-d                                   # Calculate the list of lower edges of coated zones\n",
    "    coat_zones = np.column_stack((uppers, lowers))      # Stack the 2 lists as columns in an array,\n",
    "    return                                              # Such that each row represents one zone.\n",
    "\n",
    "def gen_col():                                  # Generates the bacteria for each colony\n",
    "\n",
    "    col_centers = square*np.random.rand(no_col,2)       # Generate 5 random positions for the colony centres\n",
    "    \n",
    "    for i, center in enumerate(col_centers):            # For each colony centre,\n",
    "        while len(bacteria_list[i]) < no_bac:           # loop until the colony has enough bacteria.\n",
    "            r = np.random.triangular(0, col_r, col_r)   # Generate a random r limited by the colony radius,\n",
    "            theta = np.random.rand()*2*np.pi            # generate a random angle theta,\n",
    "            x = r*np.cos(theta) + center[0]             # then convert them to x and y,\n",
    "            y = r*np.sin(theta) + center[1]             # translating wrt colony centre \n",
    "            if x<0 or x>square or y<0 or y>square:      # If the x, y exceeds the surface, generate a new pair\n",
    "                continue \n",
    "\n",
    "            z = None\n",
    "            for j, zone in enumerate(coat_zones):       # Check if the position falls in a coated zone\n",
    "                if zone[0] < y < zone[1]:\n",
    "                    z = j\n",
    "                    break\n",
    "                    \n",
    "            bacteria_list[i].append(Bacteria([x, y], z))# Create a Bacteria object and add it to the bacteria list\n",
    "    return\n",
    "\n",
    "def count_neighbours():                              # Count the number of neighbours for each bacterium\n",
    "    \n",
    "    for one_col in bacteria_list:                                # For each colony,\n",
    "        if len(one_col) == 1:\n",
    "            one_col[0].neighbours = 0\n",
    "        \n",
    "        elif len(one_col) == 2:\n",
    "            for bac in one_col:\n",
    "                bac.neighbours = 1     \n",
    "        \n",
    "        else: \n",
    "            try:\n",
    "                vor = Voronoi(np.array([bac.pos for bac in one_col]))    # construct a Voronoi object.\n",
    "            except:\n",
    "                continue\n",
    "            for i, bac in enumerate(one_col):                        # For each bacterium in the colony,\n",
    "                region_index = vor.point_region[i]                   # find the index of its cell, and\n",
    "                bac.neighbours = len(vor.regions[region_index])      # update its neighbours attribute.\n",
    "        \n",
    "    return                                                       # (no. of edges of V cell = no. of neighbours)\n",
    "\n",
    "def gen_food():                                     # Generate the food\n",
    "    \n",
    "    global food_array\n",
    "    food_array = square*np.random.rand(n_food, 2)         # Generate random x, y coords in an array\n",
    "    return\n",
    "\n",
    "def lunchtime():                        # Each bacterium eats food if nearby\n",
    "    global food_array\n",
    "    \n",
    "    for col in bacteria_list:                                        # For each bacterium,   \n",
    "        for bac in col:                                              # Filter the food array for nearby food\n",
    "            x, y = bac.pos\n",
    "            food_near = food_array[np.logical_and.reduce((food_array[:,0] > x-r_eat, food_array[:,0] < x+r_eat, food_array[:,1] > y-r_eat, food_array[:,1] < y+r_eat)), :]\n",
    "            if len(food_near) > 0:\n",
    "                dists = [np.sqrt((fpos[0]-x)**2 + (fpos[1]-y)**2) for fpos in food_near]\n",
    "                min_dist = min(dists)                                # Calculate distance to nearest food\n",
    "            else:                                                    # If no food is nearby,\n",
    "                continue                                             # move on to the next bacterium\n",
    "\n",
    "            if min_dist <= r_eat:                                    # If nearest food is near enough,\n",
    "                nearest = food_near[dists.index(min_dist)]\n",
    "                uneaten = np.all(food_array != nearest, axis = 1)\n",
    "                food_array = food_array[uneaten,:]                   # remove it from the food array, and\n",
    "                bac.meal = 1                                         # update the bacterium's meal attribute.\n",
    "    return\n",
    "\n",
    "def get_overlap():                 # Check if two hull objects overlap\n",
    "    \n",
    "    overlap_list = []\n",
    "    \n",
    "    for i in range(len(hulls) -1):                         # Loop through all possible pairs of\n",
    "        for j in range (i+1, len(hulls)):                  # overlapping colonies without repetition\n",
    "            if hulls[i] == 0 or hulls[j] == 0:\n",
    "                continue\n",
    "                \n",
    "            if (len(hulls[i].points) + len(hulls[j].points)) <= 3:\n",
    "                overlap = False\n",
    "                continue\n",
    "            \n",
    "            else: \n",
    "                overlap = True                           # Unless shown otherwise, the hulls overlap       \n",
    "            orthos = []                                    # List to contain the edge normal vectors\n",
    "\n",
    "            for hull in [hulls[i], hulls[j]]:\n",
    "                p = hull.points\n",
    "                for edge in hull.simplices:\n",
    "                    evec = p[edge[1]] - p[edge[0]]         # Calculate vectors for each edge of each hull\n",
    "                    orthos.append([-evec[1], evec[0]])     # Calculate edge normals\n",
    "\n",
    "            for ortho in orthos:                                                   #for each edge normal,\n",
    "                proj_lim = []\n",
    "                for hull in [hulls[i], hulls[j]]:                                  #for each hull,\n",
    "                    projs = [hull.points[v]@ortho for v in hull.vertices]          #project each vertex onto the normal\n",
    "                    proj_lim += (min(projs), max(projs))                           #take the shortest and longest projections\n",
    "                if not (proj_lim[2] < proj_lim[1] and proj_lim[3] > proj_lim[0]):  #if the projections do not overlap, \n",
    "                    overlap = False                                                #the colonies do not overlap\n",
    "                    break\n",
    "            \n",
    "            if overlap:\n",
    "                overlap_list.append({i,j})                   # append it to the overlap list.\n",
    "    \n",
    "    return overlap_list\n",
    "\n",
    "def col_merge(ix_list):                            # Merges overlapping colonies  \n",
    "    \n",
    "    global bacteria_list\n",
    "    new_bacteria_list = []\n",
    "    all_cols = set(range(len(bacteria_list)))                         # Indices of all colonies (CHANGED)\n",
    "    merging_cols = set().union(*ix_list)                              # Indices of colonies that will be merged\n",
    "    \n",
    "    while len(merging_cols) < len([j for i in ix_list for j in i]):   # While there are repeats in ix_list,\n",
    "        for a, b in itr.combinations(ix_list, 2):                     # loop through each pair of overlaps\n",
    "            if not a.isdisjoint(b):                                   # If two overlaps intersect,\n",
    "                a.update(b)                                           # replace one with their union,\n",
    "                ix_list.remove(b)                                     # delete the other,\n",
    "                break                                                 # search for intersections again\n",
    "    \n",
    "    for group in ix_list:                                             # ix_list is now a list of\n",
    "        new_col = []                                                  # non-intersecting sets\n",
    "        for i in group:\n",
    "            new_col += bacteria_list[i]                               # Join colonies to be merged\n",
    "        new_bacteria_list.append(new_col)                             # and append them to a new list\n",
    "    \n",
    "    for nonmerging in all_cols.difference(merging_cols):\n",
    "        new_bacteria_list.append(bacteria_list[nonmerging])           # Add the non-merging colonies into the list\n",
    "\n",
    "    bacteria_list = new_bacteria_list\n",
    "    return   \n",
    "\n",
    "def col_fight(ix_list):                         # Overlapping colonies fight until they no longer overlap\n",
    "    \n",
    "    for ix in ix_list:\n",
    "        fighting_cols = list(ix)\n",
    "        if (len(bacteria_list[fighting_cols[0]]) == 0 or len(bacteria_list[fighting_cols[1]]) == 0): # Check for empty colony list\n",
    "            continue\n",
    "        champs = [np.random.choice(bacteria_list[col]) for col in fighting_cols]\n",
    "        strengths = [10/champ.age + np.sqrt(len(bacteria_list[col])) + 10/champ.meal for champ, col in zip(champs, fighting_cols)]\n",
    "        ps = [1-strength/sum(strengths) for strength in strengths]\n",
    "        loser = np.random.choice([0,1], p = ps)\n",
    "        bacteria_list[fighting_cols[loser]].remove(champs[loser])\n",
    "    return\n",
    "\n",
    "def bact_actions():                     # Choose and execute an action for each bacterium\n",
    "\n",
    "    for i, col in enumerate(bacteria_list):  # For each colony,\n",
    "        dying_bac = []\n",
    "        reping_bac = []\n",
    "        for j, bac in enumerate(col):        # for each bacterium,\n",
    "            outcome = bac.decision()         # choose an action\n",
    "            if outcome == 'Move':            # If move is chosen,\n",
    "                bac.move()                   # call the move method\n",
    "            elif outcome == 'Die':           # If die or replicate are chosen, \n",
    "                dying_bac.append(j)          # append them to lists to be executed after the loop\n",
    "            elif outcome == 'Replicate':\n",
    "                reping_bac.append(j)\n",
    "            \n",
    "        for index in reping_bac:\n",
    "            col[index].replicate(i)          # Replicate bacteria who chose replicate\n",
    "        \n",
    "        for index in reversed(dying_bac):  \n",
    "            del(col[index])                  # Delete bacteria who chose death, starting from the last in the list\n",
    "    return\n",
    "\n",
    "def gen_hulls():                             # Calculates the convex hulls for each colony\n",
    "    global hulls\n",
    "    hulls = []\n",
    "    pos_list = [np.array([bac.pos for bac in col]) for col in bacteria_list]\n",
    "    for pos in pos_list:\n",
    "\n",
    "        if len(pos) > 2:\n",
    "            try:\n",
    "                hulls.append(ConvexHull(pos))\n",
    "            except:\n",
    "                hulls.append(0)\n",
    "                pass\n",
    "        else:\n",
    "            hulls.append(SmallHull(pos))\n",
    "    return\n",
    "\n",
    "def col_interact():\n",
    "    \n",
    "    while [] in bacteria_list:\n",
    "        bacteria_list.remove([])\n",
    "    \n",
    "    if len(bacteria_list) > 1:\n",
    "        gen_hulls() \n",
    "        overlap_list = get_overlap()\n",
    "        \n",
    "        if len(overlap_list) > 0:                                    \n",
    "            if syn_col:                                              # If colonies are synergistic,\n",
    "                col_merge(overlap_list)                              # get them to merge\n",
    "\n",
    "                \n",
    "            else:                                                    # If colonies are competitive,\n",
    "                while len(overlap_list) > 0:\n",
    "                    col_fight(overlap_list)                          # Get them to fight, then\n",
    "                    while [] in bacteria_list:\n",
    "                        bacteria_list.remove([])\n",
    "\n",
    "                    gen_hulls()                                      # generate new hulls, and\n",
    "                    overlap_list = get_overlap()                     # check for overlaps again\n",
    "    return \n",
    "\n",
    "def coat_N_d_list():\n",
    "    global N_counts     # To determine the number of combinations for a given N. Used during interpolation to find min(t_half)\n",
    "    \n",
    "    N_min = coat_N_range[0]\n",
    "    N_max = coat_N_range[1]\n",
    "    \n",
    "    delta_d = 0.01*sum([(10/N) for N in range(N_min, N_max)])   # Find delta d such that around 100 combinations can be obtained\n",
    "    d_min = delta_d/2.5                                         # Choose a d_min such that after rounding, 100 or more\n",
    "                                                                # combinations will always be obtained.\n",
    "    test_combs = np.zeros((100, 2))\n",
    "    \n",
    "    d_list = []\n",
    "    N_list = []\n",
    "    N_counts = []\n",
    "    for N_val in range(N_min, N_max):\n",
    "        ds = list(np.arange(d_min, 10/N_val, delta_d))          # Populate the N and d_lists\n",
    "        N_counts.append(len(ds))\n",
    "        d_list += ds.copy()\n",
    "        \n",
    "        for i in ds:\n",
    "            N_list.append(N_val)\n",
    "    \n",
    "    test_combs = np.zeros((100,2))\n",
    "    test_combs[:, 0] = N_list[:100].copy()\n",
    "    test_combs[:, 1] = np.round(d_list[:100].copy(), decimals = 3)\n",
    "    return test_combs\n",
    "\n",
    "def increment():                 # Makes time pass\n",
    "    global step_no\n",
    "    step_no += 1\n",
    "    for col in bacteria_list:\n",
    "        for bac in col:\n",
    "            bac.age += 1\n",
    "            bac.meal += 1\n",
    "    return\n",
    "\n",
    "def setup():                     # Sets up the surface, bacteria, food and AB coating\n",
    "    global bac_count\n",
    "    gen_coat()\n",
    "    gen_food()\n",
    "    gen_col()\n",
    "    bac_count.append(snapshot())\n",
    "    return\n",
    "\n",
    "def save_file(total_bac):       # Writes the simulation state (position of food and bacteria) into a csv file \n",
    "\n",
    "    data_file = r\"Data{5}/comb_{3}/N={1}_d={2}_Sim={0}_StepNo={4}.csv\".format(len(t_half[comb_no]), test_combs[comb_no, 0],  test_combs[comb_no, 1], comb_no, step_no, timestamp)\n",
    "    f = open(data_file, \"a\")    # To save various headers \n",
    "    f.write(\"\\n %s %s %s %s %s %s \\n\" % (\"Sim No:,\", \"{0},,\".format(len(t_half[comb_no])), \"N:,\", \"{0},,\".format(test_combs[comb_no, 0]), \"d:,\", \"{0}\".format(test_combs[comb_no, 1])))\n",
    "    f.write(\"%s %s %s %s %s \\n \\n\" % (\"Step No:,\", \"{0},,\".format(step_no), \"N_bact:,\", \"{0},,\".format(total_bac), \"N_food:,{0}\".format(len(food_array))))\n",
    "    f.write(\"%s %s %s \\n\" % (\"Symbol:,\", \"pos x:,\", \"pos y:\"))\n",
    "    f.close()\n",
    "    \n",
    "    pos_list = [[bac.pos for bac in col] for col in bacteria_list]\n",
    "    bac_output = np.zeros((total_bac, 3), dtype = \"<U4\")\n",
    "    food_output = np.zeros((len(food_array), 3), dtype = '<U4')\n",
    "    \n",
    "    temp_counter = 0\n",
    "    for i, col in enumerate(bacteria_list):\n",
    "        for bac in col:\n",
    "            bac_output[temp_counter] = [col_symbols[i], str(bac.pos[0]), str(bac.pos[1])] # Diff colonies have diff symbols\n",
    "            temp_counter += 1\n",
    "    \n",
    "    for j, food_pos in enumerate(food_array):\n",
    "        food_output[j] = [col_symbols[-1], str(food_pos[0]), str(food_pos[1])]    # Food symbol given as last symbol\n",
    "    \n",
    "    f = open(data_file, \"a\")\n",
    "    np.savetxt(f, bac_output, delimiter = ',', fmt='%s')       # To save position of each bacteria\n",
    "    np.savetxt(f, food_output, delimiter = ',', fmt = '%s')    # To save position of each food\n",
    "    f.close()\n",
    "\n",
    "    return\n",
    "\n",
    "def step():               # Contains events that happen at each evolution step\n",
    "    global bac_count    \n",
    "    increment()\n",
    "    count_neighbours()\n",
    "    bact_actions()\n",
    "    lunchtime()\n",
    "    col_interact()\n",
    "    bac_count.append(snapshot())\n",
    "    return\n",
    "\n",
    "def one_sim(N, d, j):    # Runs the simulation step() function. Also shows the progress of the simulation as a bar\n",
    "    global coat_N        \n",
    "    global coat_d\n",
    "    global step_no\n",
    "    \n",
    "    coat_N = int(N)\n",
    "    coat_d = d    \n",
    "    setup()\n",
    "    f = IntProgress(min=0, max=max_step, description=\"Sim {0}:\".format(j)) \n",
    "    display(f)            # instantiate progress bar\n",
    "    for i in range(max_step):\n",
    "        f.value += 1\n",
    "        if terminate:\n",
    "            f.value = max_step\n",
    "            f.bar_style = 'success'\n",
    "            break\n",
    "\n",
    "        step()\n",
    "        if (bac_count[-1] > max_bac):\n",
    "            f.value = max_step\n",
    "            f.bar_style = 'warning'\n",
    "            step_no = -1\n",
    "            print(\"The simulation cannot support more than {0} bacteria (Total).\".format(max_bac))\n",
    "            break\n",
    "    \n",
    "    if step_no >= max_step and not terminate:\n",
    "        f.bar_style = 'warning'\n",
    "        step_no = -1\n",
    "        print(\"Terminating this simulation before t1/2 was found. If t1/2 exists, it is > {0}\".format(max_step))\n",
    "\n",
    "    return step_no\n",
    "\n",
    "def find_thalf(i):         # Perform two or more simulations for a particular N, d pair\n",
    "    global bacteria_list   # terminates if a good stdev is achieved or after max_repeats tries\n",
    "    global plots\n",
    "    global terminate\n",
    "    global step_no\n",
    "    \n",
    "    for j in range (max_repeats):          # Try a fixed number of times to get std_dev of t_1/2 to be < 0.2 mean t_1/2\n",
    "\n",
    "        bacteria_list.clear()                        # Reset all global variables before each simulation\n",
    "        bacteria_list = [[] for m in range(no_col)]      \n",
    "        plots.clear()                                    \n",
    "        step_no = 0                                     \n",
    "        bac_count.clear()\n",
    "        terminate = False\n",
    "        t_half[i].append(one_sim(test_combs[i, 0], test_combs[i, 1], j))   # Carry out the first simulation\n",
    "        if len(t_half[i]) > 1:                                             # Break if more than 1 sim and stdev = 0.2*mean \n",
    "            remove_minusone = np.extract([k != -1 for k in t_half[i]], t_half[i])\n",
    "            if np.std(remove_minusone) < 0.2*np.mean(remove_minusone) and len(remove_minusone) > 1:\n",
    "                column = ['Sim {0}'.format(j) for j in range(len(t_half[i]))]\n",
    "                t_half[i].append(np.std(remove_minusone))\n",
    "                t_half[i].append(np.mean(remove_minusone))\n",
    "                column.append(\"Stdev\")\n",
    "                column.append(\"Mean\")\n",
    "                print(pd.DataFrame([column, t_half[i]]))                   # To format data neatly into a table\n",
    "                return\n",
    "    \n",
    "    print(\"Note: Could not find t1/2 to be within 0.2*mean after the stipulated tries.\") # If after max_repeat iterations the condition\n",
    "    column = ['Sim {0}'.format(j) for j in range(len(t_half[i]))]                        # of stdev = 0.2*mean cannot be fulfilled\n",
    "    remove_minusone = np.extract([k != -1 for k in t_half[i]], t_half[i])\n",
    "    t_half[i].append(np.std(remove_minusone))\n",
    "    t_half[i].append(np.mean(remove_minusone))\n",
    "    column.append(\"Stdev\")\n",
    "    column.append(\"Mean\")\n",
    "    print(pd.DataFrame([column, t_half[i]]))\n",
    "    \n",
    "'''Simulation time'''\n",
    "test_combs = coat_N_d_list()\n",
    "timestamp = \" \" + str(datetime.datetime.now())[-15:-13] + str(datetime.datetime.now())[-12:-10]\n",
    "\n",
    "if save_info or plot_show:\n",
    "    try:                            \n",
    "        os.mkdir(r\"Data{0}\".format(timestamp))\n",
    "    except:\n",
    "        pass\n",
    "\n",
    "for i in range(100):               # For each combination, try to find thalf such that stdev < 0.2*mean thalf\n",
    "    \n",
    "    if save_info or plot_show:\n",
    "        try: \n",
    "            os.mkdir(r\"Data{1}/comb_{0}\".format(i, timestamp))\n",
    "        except:\n",
    "            pass\n",
    "    print('\\n'+\"Combination {0} (For N = {1}, d = {2}):\".format(i + 1, test_combs[i, 0], test_combs[i, 1]))\n",
    "    comb_no = i\n",
    "    t_half.append([])\n",
    "    find_thalf(i)\n",
    "\n",
    "\n"
   ]
  },
  {
   "cell_type": "code",
   "execution_count": 3,
   "metadata": {},
   "outputs": [
    {
     "data": {
      "image/png": "[encoded data removed]",
      "text/plain": [
       "<Figure size 432x288 with 2 Axes>"
      ]
     },
     "metadata": {
      "needs_background": "light"
     },
     "output_type": "display_data"
    }
   ],
   "source": [
    "from scipy.optimize import minimize\n",
    "from scipy.interpolate import interp1d\n",
    "\n",
    "N_list = test_combs[:, 0]\n",
    "N_min, N_max = int(np.min(N_list)), int(np.max(N_list))\n",
    "N_shape = N_max - N_min + 1\n",
    "N_axis = [i for i in range(N_min, N_max + 1)]\n",
    "\n",
    "d_list = test_combs[:, 1]\n",
    "delta_d = 0.01*sum([(10/N) for N in range(coat_N_range[0], coat_N_range[1])])  # Find delta d such that around 100 combinations can be obtained\n",
    "d_min, d_max = np.min(d_list), np.max(d_list)                                  # Choose a d_min such that after rounding, 100 or more\n",
    "d_shape = int((d_max - d_min)/delta_d + 1)                                     # combinations will always be obtained.\n",
    "d_axis = np.linspace(d_min, d_max, d_shape)                                    # Calculate the valid ds for the  N\n",
    "\n",
    "heatmap = np.zeros((N_shape, d_shape))\n",
    "zs = [i[-1] for i in t_half]\n",
    "heatmap.fill(2*max(zs))                   # Set a high value for the invalid N, d values\n",
    "\n",
    "for i, z in enumerate(zs):                # Fill the valid N, d values with the calculated t_half\n",
    "    heatmap[int(N_list[i] - 1), int(np.round((d_list[i] - d_min)/delta_d))] = z\n",
    "\n",
    "fig, ax =  plt.subplots()\n",
    "plt.imshow(heatmap, cmap=plt.get_cmap('Blues'), extent=[d_min,d_max,N_max, N_min]\n",
    "          , aspect = delta_d, interpolation = None)\n",
    "\n",
    "plt.colorbar(shrink = 0.55)\n",
    "\n",
    "split_indices = [sum(N_counts[0:i+1]) for i in range(len(N_counts)-1)]  \n",
    "mean_t_split = np.split(zs, split_indices)                                     # group t-half values by their N value\n",
    "d_split = np.split(test_combs[:, 1].copy(), split_indices)                     # group d-values by their N value\n",
    "result = []\n",
    "\n",
    "for i, (x, y) in enumerate(zip(d_split, mean_t_split)):\n",
    "    \n",
    "    if len(x)> 3:\n",
    "        t_fun_d = interp1d(x, y, kind = 'cubic')                                                   # for each N, interpolate t_half wrt to d\n",
    "        res = minimize(t_fun_d, x[np.argmin(y)], bounds = ((min(x), max(x)),) , method='SLSQP')    # find the d value which gives the minimum t_half\n",
    "        result.append((i+1, res.x[0]))\n",
    "        \n",
    "    else:\n",
    "        result.append((i+1, x[np.argmin(y)]))\n",
    "\n",
    "index = result[:][1].index(min(result[:][1]))                                         # get the N value which has the global minimum t-half\n",
    "plt.text(0, 0, \"Optimum N, d to minimise t_half: {0}\".format(result[index]))\n",
    "\n",
    "plt.savefig(r\"Data{0}/InterpolationResults.png\".format(timestamp))\n",
    "plt.show()\n"
   ]
  }
 ],
 "metadata": {
  "kernelspec": {
   "display_name": "Python 3",
   "language": "python",
   "name": "python3"
  },
  "language_info": {
   "codemirror_mode": {
    "name": "ipython",
    "version": 3
   },
   "file_extension": ".py",
   "mimetype": "text/x-python",
   "name": "python",
   "nbconvert_exporter": "python",
   "pygments_lexer": "ipython3",
   "version": "3.7.0"
  }
 },
 "nbformat": 4,
 "nbformat_minor": 2
}
